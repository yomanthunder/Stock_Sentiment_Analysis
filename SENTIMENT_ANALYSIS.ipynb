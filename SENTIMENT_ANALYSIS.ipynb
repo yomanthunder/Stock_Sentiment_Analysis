{
 "cells": [
  {
   "cell_type": "markdown",
   "metadata": {},
   "source": [
    "SENTIMENT ANALYSIS USING STOCK DATA "
   ]
  },
  {
   "cell_type": "markdown",
   "metadata": {},
   "source": [
    "first lets collect some data to perfom sentiment analysis. So I have collected data from finviz of stocks which are listed in Nasdaq ans the new york stock exchange. "
   ]
  },
  {
   "cell_type": "code",
   "execution_count": 135,
   "metadata": {},
   "outputs": [],
   "source": [
    "from urllib.request import urlopen, Request\n",
    "from bs4 import BeautifulSoup\n",
    "from nltk.sentiment.vader import SentimentIntensityAnalyzer\n",
    "import pandas as pd\n",
    "import matplotlib.pyplot as plt\n",
    "\n",
    "finviz_url = 'https://finviz.com/quote.ashx?t='\n",
    "tickers = ['AMZN',\n",
    " 'GOOG',\n",
    " 'TSLA',\n",
    " 'META',\n",
    " 'INTC',\n",
    " 'UBER',\n",
    " 'DELL',\n",
    " 'MSFT',\n",
    " 'C',\n",
    " 'MA',\n",
    " 'WMT',\n",
    " 'JPM',\n",
    " 'MS',\n",
    " 'ORCL',\n",
    " 'NFLX',\n",
    " 'MCD',\n",
    " 'JNJ',\n",
    " 'KO',\n",
    " 'QCOM',\n",
    " 'CSCO']\n",
    "\n",
    "news_tables = {}\n",
    "for ticker in tickers:\n",
    "    url = finviz_url + ticker\n",
    "\n",
    "    req = Request(url=url, headers={'user-agent': 'my-app'})\n",
    "    response = urlopen(req)\n",
    "\n",
    "    html = BeautifulSoup(response, features='html.parser')\n",
    "    news_table = html.find(id='news-table')\n",
    "    news_tables[ticker] = news_table\n",
    "\n",
    "parsed_data = []\n",
    "\n",
    "    \n",
    "    \n",
    "\n",
    "   \n",
    "  \n",
    "\n",
    "for ticker, news_table in news_tables.items():\n",
    "\n",
    "    for row in news_table.findAll('tr'):\n",
    "\n",
    "        title = row.a.text\n",
    "        date_data = row.td.text.split('\\r\\n')\n",
    "\n",
    "        if len(date_data) == 1:\n",
    "            time = date_data[0]\n",
    "        else:\n",
    "            date = date_data[0]\n",
    "            time = date_data[1]\n",
    "\n",
    "        parsed_data.append([ticker, date, time, title])\n",
    "\n",
    "df = pd.DataFrame(parsed_data, columns=['ticker', 'date', 'time', 'title'])\n"
   ]
  },
  {
   "cell_type": "code",
   "execution_count": 137,
   "metadata": {},
   "outputs": [],
   "source": [
    "\n",
    "for i in range(2000):\n",
    "    df['time'][i]=df['time'][i].strip()\n",
    "    l=df['time'][i].split(' ')\n",
    "    if(len(l)==2):\n",
    "        \n",
    "        if l[0]=='Today':\n",
    "            l[0]='June-14-24'\n",
    "        df['time'][i]=l[1]\n",
    "        df['date'][i]=l[0]\n",
    "        k=l[0]\n",
    "    else:\n",
    "        df['time'][i]=l[0]\n",
    "        df['date'][i]=k\n",
    "\n",
    "\n",
    "    \n",
    "df.to_csv(r'C:\\Users\\ACER\\Desktop\\dataset.csv', index=False)\n",
    "\n"
   ]
  },
  {
   "cell_type": "markdown",
   "metadata": {},
   "source": [
    "Here we have collected the data of about a week or ten days of the following firms:\n",
    "amazon, google, tesla, intel ,Mcdonalds, cisco, Microsoft, bershire hathway, mastercard, visa, nike, walmart, jp morgan, netflix, coke, qualcom, johnson & johnson ,oracle, dell, uber"
   ]
  },
  {
   "cell_type": "code",
   "execution_count": 8,
   "metadata": {},
   "outputs": [
    {
     "data": {
      "text/html": [
       "<div>\n",
       "<style scoped>\n",
       "    .dataframe tbody tr th:only-of-type {\n",
       "        vertical-align: middle;\n",
       "    }\n",
       "\n",
       "    .dataframe tbody tr th {\n",
       "        vertical-align: top;\n",
       "    }\n",
       "\n",
       "    .dataframe thead th {\n",
       "        text-align: right;\n",
       "    }\n",
       "</style>\n",
       "<table border=\"1\" class=\"dataframe\">\n",
       "  <thead>\n",
       "    <tr style=\"text-align: right;\">\n",
       "      <th></th>\n",
       "      <th>ticker</th>\n",
       "      <th>date</th>\n",
       "      <th>time</th>\n",
       "      <th>title</th>\n",
       "    </tr>\n",
       "  </thead>\n",
       "  <tbody>\n",
       "    <tr>\n",
       "      <th>0</th>\n",
       "      <td>AMZN</td>\n",
       "      <td>June-14-24</td>\n",
       "      <td>12:59PM</td>\n",
       "      <td>Amazon Prime Video drives down ad prices for c...</td>\n",
       "    </tr>\n",
       "    <tr>\n",
       "      <th>1</th>\n",
       "      <td>AMZN</td>\n",
       "      <td>June-14-24</td>\n",
       "      <td>12:55PM</td>\n",
       "      <td>Amazon's AI-powered Alexa is reportedly not ev...</td>\n",
       "    </tr>\n",
       "    <tr>\n",
       "      <th>2</th>\n",
       "      <td>AMZN</td>\n",
       "      <td>June-14-24</td>\n",
       "      <td>10:00AM</td>\n",
       "      <td>Netflix Is Overvalued Amid Future Content Qual...</td>\n",
       "    </tr>\n",
       "    <tr>\n",
       "      <th>3</th>\n",
       "      <td>AMZN</td>\n",
       "      <td>June-14-24</td>\n",
       "      <td>09:56AM</td>\n",
       "      <td>Analyst Says Amazon.com Inc (NASDAQ:AMZN) Is P...</td>\n",
       "    </tr>\n",
       "    <tr>\n",
       "      <th>4</th>\n",
       "      <td>AMZN</td>\n",
       "      <td>June-14-24</td>\n",
       "      <td>09:50AM</td>\n",
       "      <td>Here's Why Amazon (AMZN) is a Strong Momentum ...</td>\n",
       "    </tr>\n",
       "    <tr>\n",
       "      <th>...</th>\n",
       "      <td>...</td>\n",
       "      <td>...</td>\n",
       "      <td>...</td>\n",
       "      <td>...</td>\n",
       "    </tr>\n",
       "    <tr>\n",
       "      <th>1995</th>\n",
       "      <td>CSCO</td>\n",
       "      <td>May-15-24</td>\n",
       "      <td>10:30PM</td>\n",
       "      <td>Cisco Systems (CSCO) Q3 2024 Earnings Call Tra...</td>\n",
       "    </tr>\n",
       "    <tr>\n",
       "      <th>1996</th>\n",
       "      <td>CSCO</td>\n",
       "      <td>May-15-24</td>\n",
       "      <td>08:54PM</td>\n",
       "      <td>CSCO Stock Earnings: Cisco Systems Beats EPS, ...</td>\n",
       "    </tr>\n",
       "    <tr>\n",
       "      <th>1997</th>\n",
       "      <td>CSCO</td>\n",
       "      <td>May-15-24</td>\n",
       "      <td>08:37PM</td>\n",
       "      <td>Analyst Report: Cisco Systems, Inc.</td>\n",
       "    </tr>\n",
       "    <tr>\n",
       "      <th>1998</th>\n",
       "      <td>CSCO</td>\n",
       "      <td>May-15-24</td>\n",
       "      <td>06:15PM</td>\n",
       "      <td>Cisco Rallies After Upbeat Forecast Shows Spen...</td>\n",
       "    </tr>\n",
       "    <tr>\n",
       "      <th>1999</th>\n",
       "      <td>CSCO</td>\n",
       "      <td>May-15-24</td>\n",
       "      <td>06:15PM</td>\n",
       "      <td>Cisco Stock Jumps on Earnings. What Drove the ...</td>\n",
       "    </tr>\n",
       "  </tbody>\n",
       "</table>\n",
       "<p>2000 rows × 4 columns</p>\n",
       "</div>"
      ],
      "text/plain": [
       "     ticker        date     time  \\\n",
       "0      AMZN  June-14-24  12:59PM   \n",
       "1      AMZN  June-14-24  12:55PM   \n",
       "2      AMZN  June-14-24  10:00AM   \n",
       "3      AMZN  June-14-24  09:56AM   \n",
       "4      AMZN  June-14-24  09:50AM   \n",
       "...     ...         ...      ...   \n",
       "1995   CSCO   May-15-24  10:30PM   \n",
       "1996   CSCO   May-15-24  08:54PM   \n",
       "1997   CSCO   May-15-24  08:37PM   \n",
       "1998   CSCO   May-15-24  06:15PM   \n",
       "1999   CSCO   May-15-24  06:15PM   \n",
       "\n",
       "                                                  title  \n",
       "0     Amazon Prime Video drives down ad prices for c...  \n",
       "1     Amazon's AI-powered Alexa is reportedly not ev...  \n",
       "2     Netflix Is Overvalued Amid Future Content Qual...  \n",
       "3     Analyst Says Amazon.com Inc (NASDAQ:AMZN) Is P...  \n",
       "4     Here's Why Amazon (AMZN) is a Strong Momentum ...  \n",
       "...                                                 ...  \n",
       "1995  Cisco Systems (CSCO) Q3 2024 Earnings Call Tra...  \n",
       "1996  CSCO Stock Earnings: Cisco Systems Beats EPS, ...  \n",
       "1997                Analyst Report: Cisco Systems, Inc.  \n",
       "1998  Cisco Rallies After Upbeat Forecast Shows Spen...  \n",
       "1999  Cisco Stock Jumps on Earnings. What Drove the ...  \n",
       "\n",
       "[2000 rows x 4 columns]"
      ]
     },
     "execution_count": 8,
     "metadata": {},
     "output_type": "execute_result"
    }
   ],
   "source": [
    "import pandas as pd\n",
    "\n",
    "dataset=pd.read_csv(r'C:\\Users\\ACER\\Desktop\\dataset.csv')\n",
    "dataset"
   ]
  },
  {
   "cell_type": "markdown",
   "metadata": {},
   "source": [
    "Now I have used VADER_LEXICON inorder to extract the features from the new headlines. Vader from the nltk library uses nlp techniques to give score a text as negetive, neutral, positive, and compound "
   ]
  },
  {
   "cell_type": "markdown",
   "metadata": {},
   "source": [
    "new starting"
   ]
  },
  {
   "cell_type": "code",
   "execution_count": 9,
   "metadata": {},
   "outputs": [
    {
     "name": "stderr",
     "output_type": "stream",
     "text": [
      "[nltk_data] Downloading package vader_lexicon to\n",
      "[nltk_data]     C:\\Users\\ACER\\AppData\\Roaming\\nltk_data...\n",
      "[nltk_data]   Package vader_lexicon is already up-to-date!\n"
     ]
    }
   ],
   "source": [
    "import nltk\n",
    "nltk.download(\"vader_lexicon\")\n",
    "from nltk.sentiment.vader import SentimentIntensityAnalyzer\n",
    "\n",
    "\n",
    "vader = SentimentIntensityAnalyzer()\n",
    "lst=['neg','neu','pos','compound']\n",
    "for i in lst:\n",
    "    func=lambda title: vader.polarity_scores(title)[i]\n",
    "    dataset[i]=dataset['title'].apply(func)\n",
    "dataset=dataset.reset_index()\n"
   ]
  },
  {
   "cell_type": "code",
   "execution_count": 10,
   "metadata": {},
   "outputs": [],
   "source": [
    "del dataset['index']\n"
   ]
  },
  {
   "cell_type": "markdown",
   "metadata": {},
   "source": [
    "Just converted the date to te required format for our analysis"
   ]
  },
  {
   "cell_type": "code",
   "execution_count": 11,
   "metadata": {},
   "outputs": [],
   "source": [
    "from datetime import datetime\n",
    "import pandas as pd\n",
    "\n",
    "\n",
    "def convert_date_format(date_str):\n",
    "    for fmt in ('%B-%d-%y', '%b-%d-%y'):\n",
    "        try:\n",
    "            \n",
    "            date_obj = datetime.strptime(date_str, fmt)\n",
    "            \n",
    "            new_date_str = date_obj.strftime('%Y-%m-%d')\n",
    "            return new_date_str\n",
    "        except ValueError:\n",
    "            continue\n",
    "    raise ValueError(f\"Date format for '{date_str}' is not recognized.\")\n",
    "\n",
    "\n",
    "dataset['date'] = dataset['date'].apply(convert_date_format)\n",
    "\n",
    "\n"
   ]
  },
  {
   "cell_type": "markdown",
   "metadata": {},
   "source": [
    "just store the data as finviz add on the data of newer dates , this line could be ommited"
   ]
  },
  {
   "cell_type": "code",
   "execution_count": 12,
   "metadata": {},
   "outputs": [],
   "source": [
    "df_test=pd.read_csv(r'C:\\Users\\ACER\\Desktop\\dataset_test_2.csv')\n",
    "dataset=pd.concat([dataset,df_test])"
   ]
  },
  {
   "cell_type": "markdown",
   "metadata": {},
   "source": [
    "extracted the unique dates"
   ]
  },
  {
   "cell_type": "code",
   "execution_count": null,
   "metadata": {},
   "outputs": [],
   "source": [
    "\n",
    "tickers=dataset['ticker'].unique()\n",
    "tickerz=list(tickers)\n",
    "req_date_dict={}\n",
    "for i in range(100,2301,100):\n",
    "    req_date_dict[dataset.iloc[i-100,0]]=list(dataset.iloc[i-100:i,1].unique())\n",
    "    \n",
    "req_date_dict\n"
   ]
  },
  {
   "cell_type": "code",
   "execution_count": 14,
   "metadata": {},
   "outputs": [],
   "source": [
    "new_req_date_dict={'AMZN':['2024-5-12'],'GOOG':['2024-5-12'],'TSLA':['2024-5-12'],'META':['2024-5-12'],'INTC':['2024-5-12'],'UBER':['2024-5-12'],'DELL':['2024-5-12'],'MSFT':['2024-5-12'],'C':['2024-5-12'],'MA':['2024-5-12'],'WMT':['2024-5-12'],'JPM':['2024-5-12'],'MS':['2024-5-12'],'ORCL':['2024-5-12'],'NFLX':['2024-5-12'],'MCD':['2024-5-12'],'JNJ':['2024-5-12'],'KO':['2024-5-12'],'QCOM':['2024-5-12'],'CSCO':['2024-5-12'],'BRK-A':['2024-4-12'],'NKE':['2024-5-12'],'V':['2024-5-12']}\n"
   ]
  },
  {
   "cell_type": "markdown",
   "metadata": {},
   "source": [
    "download the required data from yahoo finance of the considered stocks"
   ]
  },
  {
   "cell_type": "code",
   "execution_count": 15,
   "metadata": {},
   "outputs": [
    {
     "name": "stderr",
     "output_type": "stream",
     "text": [
      "[*********************100%%**********************]  1 of 1 completed\n",
      "[*********************100%%**********************]  1 of 1 completed\n",
      "[*********************100%%**********************]  1 of 1 completed\n",
      "[*********************100%%**********************]  1 of 1 completed\n",
      "[*********************100%%**********************]  1 of 1 completed\n",
      "[*********************100%%**********************]  1 of 1 completed\n",
      "[*********************100%%**********************]  1 of 1 completed\n",
      "[*********************100%%**********************]  1 of 1 completed\n",
      "[*********************100%%**********************]  1 of 1 completed\n",
      "[*********************100%%**********************]  1 of 1 completed\n",
      "[*********************100%%**********************]  1 of 1 completed\n",
      "[*********************100%%**********************]  1 of 1 completed\n",
      "[*********************100%%**********************]  1 of 1 completed\n",
      "[*********************100%%**********************]  1 of 1 completed\n",
      "[*********************100%%**********************]  1 of 1 completed\n",
      "[*********************100%%**********************]  1 of 1 completed\n",
      "[*********************100%%**********************]  1 of 1 completed\n",
      "[*********************100%%**********************]  1 of 1 completed\n",
      "[*********************100%%**********************]  1 of 1 completed\n",
      "[*********************100%%**********************]  1 of 1 completed\n",
      "[*********************100%%**********************]  1 of 1 completed\n",
      "[*********************100%%**********************]  1 of 1 completed\n",
      "[*********************100%%**********************]  1 of 1 completed\n"
     ]
    }
   ],
   "source": [
    "import yfinance as yf\n",
    "new_dataset=pd.DataFrame()\n",
    "for keys,values in new_req_date_dict.items():\n",
    "    data=yf.download(keys,start=values[0],end='2024-6-15')\n",
    "    data['ticker']=keys\n",
    "    new_dataset=pd.concat([new_dataset,data])\n",
    "    \n",
    "new_dataset=new_dataset.reset_index()\n",
    "    "
   ]
  },
  {
   "cell_type": "markdown",
   "metadata": {},
   "source": [
    "label the return"
   ]
  },
  {
   "cell_type": "code",
   "execution_count": 16,
   "metadata": {},
   "outputs": [],
   "source": [
    "new_dataset['return']=new_dataset['Adj Close'].shift(-1)-new_dataset['Adj Close']\n",
    "new_dataset['return']=new_dataset['return'].fillna(0)\n",
    "new_dataset['labels']=[1 if return_val>0 else -1 if return_val<0 else 0 for return_val in new_dataset['return']]\n"
   ]
  },
  {
   "cell_type": "markdown",
   "metadata": {},
   "source": [
    "extract the labels column and merge it with the dataset which contains the sentiment scores"
   ]
  },
  {
   "cell_type": "code",
   "execution_count": 17,
   "metadata": {},
   "outputs": [],
   "source": [
    "label_dict={}\n",
    "filtered_df=pd.DataFrame()\n",
    "for key,value in req_date_dict.items():\n",
    "    for i in value:\n",
    "        i = pd.to_datetime(i)\n",
    "        df = new_dataset[(new_dataset['Date'] == i) & (new_dataset['ticker'] == key)]\n",
    "        filtered_df=pd.concat([filtered_df,df])\n",
    "\n",
    "\n",
    "filtered_df=filtered_df.reset_index()\n",
    "    "
   ]
  },
  {
   "cell_type": "code",
   "execution_count": 18,
   "metadata": {},
   "outputs": [],
   "source": [
    "del filtered_df['index']"
   ]
  },
  {
   "cell_type": "code",
   "execution_count": 19,
   "metadata": {},
   "outputs": [],
   "source": [
    "filtered_df['Date']=filtered_df['Date'].dt.date\n"
   ]
  },
  {
   "cell_type": "code",
   "execution_count": 20,
   "metadata": {},
   "outputs": [],
   "source": [
    "dataset['labels']=None\n"
   ]
  },
  {
   "cell_type": "code",
   "execution_count": 21,
   "metadata": {},
   "outputs": [],
   "source": [
    "for i in range(2300):\n",
    "    for j in range(326):\n",
    "        if dataset.iloc[i,1]==filtered_df.iloc[j,0].strftime('%Y-%m-%d') and dataset.iloc[i,0]==filtered_df.iloc[j,7]:\n",
    "            dataset.iloc[i,8]=filtered_df.iloc[j,9]\n",
    "            break\n",
    "        \n",
    "    #==filtered_df.iloc[j,0] and dataset.iloc[i,0]==filtered_df.iloc[]"
   ]
  },
  {
   "cell_type": "code",
   "execution_count": 22,
   "metadata": {},
   "outputs": [],
   "source": [
    "dataset['labels']=dataset['labels'].fillna(0)\n"
   ]
  },
  {
   "cell_type": "code",
   "execution_count": 23,
   "metadata": {},
   "outputs": [],
   "source": [
    "dataset = dataset[dataset.iloc[:, 8] != 0]\n",
    "dataset=dataset.reset_index()\n",
    "#del dataset['index']\n"
   ]
  },
  {
   "cell_type": "code",
   "execution_count": 24,
   "metadata": {},
   "outputs": [],
   "source": [
    "del dataset['index']"
   ]
  },
  {
   "cell_type": "code",
   "execution_count": 25,
   "metadata": {},
   "outputs": [],
   "source": [
    "for i in range(2090):\n",
    "    if dataset.iloc[i,7]==0:\n",
    "        dataset.iloc[i,8]=0\n"
   ]
  },
  {
   "cell_type": "code",
   "execution_count": 61,
   "metadata": {},
   "outputs": [],
   "source": [
    "import pandas as pd\n",
    "dataset=pd.read_csv(r'C:\\Users\\ACER\\Desktop\\dataset2.csv')"
   ]
  },
  {
   "cell_type": "markdown",
   "metadata": {},
   "source": [
    "remove the data on which we test for in this project"
   ]
  },
  {
   "cell_type": "code",
   "execution_count": 62,
   "metadata": {},
   "outputs": [],
   "source": [
    "dataset_train=dataset.iloc[:1854,:]\n",
    "dataset_test=dataset.iloc[1854:2090,:]\n",
    "labels_test=dataset_test[\"labels\"]\n",
    "del dataset_test['labels']\n",
    "labels_train=dataset_train['labels']\n",
    "del dataset_train['labels']"
   ]
  },
  {
   "cell_type": "markdown",
   "metadata": {},
   "source": [
    "MACHINE LEARNING PART\n"
   ]
  },
  {
   "cell_type": "code",
   "execution_count": 63,
   "metadata": {},
   "outputs": [],
   "source": [
    "import pandas as pd\n",
    "import numpy as np\n",
    "import matplotlib.pyplot as plt\n",
    "from sklearn.preprocessing import LabelEncoder\n",
    "from sklearn.metrics import classification_report,confusion_matrix\n",
    "from sklearn.tree import DecisionTreeClassifier\n",
    "from sklearn.tree import plot_tree\n",
    "from sklearn.metrics import accuracy_score\n",
    "from sklearn.model_selection import train_test_split\n",
    "from sklearn.metrics import confusion_matrix"
   ]
  },
  {
   "cell_type": "markdown",
   "metadata": {},
   "source": [
    "here we train our model on the sentiment scores which were extracted from vader, these scores enacts as features of the sentiments ."
   ]
  },
  {
   "cell_type": "code",
   "execution_count": 64,
   "metadata": {},
   "outputs": [],
   "source": [
    "x_train=dataset_train[['neg','neu','pos','compound']]\n",
    "y_train=labels_train\n",
    "x_test=dataset_test[['neg','neu','pos','compound']]\n",
    "dataset_test=dataset_test.reset_index()\n",
    "\n",
    "del dataset_test['index']"
   ]
  },
  {
   "cell_type": "code",
   "execution_count": 94,
   "metadata": {},
   "outputs": [],
   "source": [
    "\n",
    "filtered_df['percent_return']=(filtered_df['return']/filtered_df['Adj Close'])\n"
   ]
  },
  {
   "cell_type": "markdown",
   "metadata": {},
   "source": [
    "Decision Trees were used to classify the sentiments based on the scores as 1,-1 and 0 here 1 predicts a positive score -1 a negetive and 0 a neutral sentiment"
   ]
  },
  {
   "cell_type": "markdown",
   "metadata": {},
   "source": [
    "inorder to tune the hyperparameters we used gridsearch expecting the best model obtainable"
   ]
  },
  {
   "cell_type": "code",
   "execution_count": 95,
   "metadata": {},
   "outputs": [
    {
     "name": "stdout",
     "output_type": "stream",
     "text": [
      "0.7584745762711864\n",
      "[[ 54   0  38]\n",
      " [  0 109   0]\n",
      " [ 19   0  16]]\n"
     ]
    }
   ],
   "source": [
    "from sklearn.model_selection import GridSearchCV\n",
    "dt = DecisionTreeClassifier()\n",
    "\n",
    "\n",
    "param_grid = {\n",
    "    'max_depth': [None, 10, 20, 30],\n",
    "    'min_samples_split': [2, 5, 10],\n",
    "    'min_samples_leaf': [1, 2, 4],\n",
    "    'criterion': ['gini', 'entropy']\n",
    "}\n",
    "\n",
    "\n",
    "grid_search = GridSearchCV(estimator=dt, param_grid=param_grid, cv=5)\n",
    "grid_search.fit(x_train, y_train)\n",
    "\n",
    "\n",
    "best_params = grid_search.best_params_\n",
    "best_score = grid_search.best_score_\n",
    "\n",
    "\n",
    "final_model = DecisionTreeClassifier(**best_params)\n",
    "final_model.fit(x_train, y_train)\n",
    "\n",
    "\n",
    "y_pred = final_model.predict(x_test)\n",
    "print(accuracy_score(y_pred,labels_test))\n",
    "print(confusion_matrix(y_pred,labels_test))"
   ]
  },
  {
   "cell_type": "code",
   "execution_count": 67,
   "metadata": {},
   "outputs": [],
   "source": [
    "dataset_test['return']=None\n",
    "dataset_test['percent_return']=None"
   ]
  },
  {
   "cell_type": "markdown",
   "metadata": {},
   "source": [
    "portfolio metrics"
   ]
  },
  {
   "cell_type": "code",
   "execution_count": 68,
   "metadata": {},
   "outputs": [],
   "source": [
    "dataset_test['labels']=y_pred\n",
    "\n"
   ]
  },
  {
   "cell_type": "markdown",
   "metadata": {},
   "source": [
    "add in two new columns percentage returns and the sentiment returns"
   ]
  },
  {
   "cell_type": "code",
   "execution_count": 69,
   "metadata": {},
   "outputs": [],
   "source": [
    "for i in range(236):\n",
    "    for j in range(326):\n",
    "        if dataset_test.iloc[i,1]==filtered_df.iloc[j,0].strftime('%Y-%m-%d') and dataset_test.iloc[i,0]==filtered_df.iloc[j,7]:\n",
    "            dataset_test.iloc[i,8]=filtered_df.iloc[j,8]\n",
    "            dataset_test.iloc[i,9]=filtered_df.iloc[j,10]\n",
    "\n"
   ]
  },
  {
   "cell_type": "markdown",
   "metadata": {},
   "source": [
    "what our strategy really does is that when a positive slope is predicted we tend to buy a share and sell it the next day. whereas when a negative slope is expected we short a share on that day. And the neutral signal keeps us away from the markets."
   ]
  },
  {
   "cell_type": "code",
   "execution_count": 70,
   "metadata": {},
   "outputs": [],
   "source": [
    "dataset_test['senti_return']=dataset_test['return']*dataset_test['labels']\n",
    "dataset_test['senti_return'].cumsum()\n",
    "dataset_test['senti_percent_return']=dataset_test['percent_return']*dataset_test['labels']\n",
    "\n"
   ]
  },
  {
   "cell_type": "code",
   "execution_count": 71,
   "metadata": {},
   "outputs": [],
   "source": [
    "brk_a=dataset_test[:71]\n",
    "nike=dataset_test[72:156]\n",
    "visa=dataset_test[157:]"
   ]
  },
  {
   "cell_type": "markdown",
   "metadata": {},
   "source": [
    "here we plot the senti return we've got"
   ]
  },
  {
   "cell_type": "code",
   "execution_count": 72,
   "metadata": {},
   "outputs": [
    {
     "data": {
      "image/png": "[encoded data removed]",
      "text/plain": [
       "<Figure size 500x500 with 1 Axes>"
      ]
     },
     "metadata": {},
     "output_type": "display_data"
    },
    {
     "data": {
      "image/png": "[encoded data removed]",
      "text/plain": [
       "<Figure size 500x500 with 1 Axes>"
      ]
     },
     "metadata": {},
     "output_type": "display_data"
    },
    {
     "data": {
      "image/png": "[encoded data removed]",
      "text/plain": [
       "<Figure size 500x500 with 1 Axes>"
      ]
     },
     "metadata": {},
     "output_type": "display_data"
    }
   ],
   "source": [
    "import matplotlib.pyplot as plt\n",
    "plt.figure(figsize=(5, 5))\n",
    "plt.plot(brk_a['senti_return'], marker='o',color='red')\n",
    "plt.title('Daily Returns of the Stock BRK-A')\n",
    "plt.xlabel('Day')\n",
    "plt.ylabel('Daily Return')\n",
    "\n",
    "plt.figure(figsize=(5, 5))\n",
    "plt.plot(nike['senti_return'], marker='o',color='blue')\n",
    "plt.title('Daily Returns of the Stock NIKE')\n",
    "plt.xlabel('Day')\n",
    "plt.ylabel('Daily Return')\n",
    "\n",
    "plt.figure(figsize=(5, 5))\n",
    "plt.plot(visa['senti_return'], marker='o',color='green')\n",
    "plt.title('Daily Returns of the Stock VISA')\n",
    "plt.xlabel('Day')\n",
    "plt.ylabel('Daily Return')\n",
    "\n",
    "plt.grid(True)\n",
    "plt.show()\n"
   ]
  },
  {
   "cell_type": "markdown",
   "metadata": {},
   "source": [
    "this was just for storing this could be omited"
   ]
  },
  {
   "cell_type": "code",
   "execution_count": 73,
   "metadata": {},
   "outputs": [],
   "source": [
    "dataset_test.to_csv(r'C:\\Users\\ACER\\Desktop\\dataset3.csv', index=False)"
   ]
  },
  {
   "cell_type": "code",
   "execution_count": 77,
   "metadata": {},
   "outputs": [
    {
     "data": {
      "text/plain": [
       "0.07563818697029963"
      ]
     },
     "execution_count": 77,
     "metadata": {},
     "output_type": "execute_result"
    }
   ],
   "source": [
    "dataset_test['senti_percent_return'].sum()"
   ]
  },
  {
   "cell_type": "markdown",
   "metadata": {},
   "source": [
    "SHARPE RATIO"
   ]
  },
  {
   "cell_type": "markdown",
   "metadata": {},
   "source": [
    "to calculate the sharpe ratio as i had collected the news data of only a month( around 40 days) i have converted the risk free rate for around 40 days of all the 3 stocks(40+30+30) . got the return per month and added a correction to the standard deviation to let it suit our case"
   ]
  },
  {
   "cell_type": "code",
   "execution_count": 101,
   "metadata": {},
   "outputs": [
    {
     "name": "stdout",
     "output_type": "stream",
     "text": [
      "return_per_month :  0.038460095069643874\n",
      "std_dev_returns :  0.01656321216763425\n",
      "sharpe_ratio :  1.5895266053965686\n"
     ]
    }
   ],
   "source": [
    "import numpy as np\n",
    "risk_free_rate = (1+0.045)**(100/365)-1\n",
    "\n",
    "\n",
    "return_per_month=dataset_test['senti_percent_return'].sum()*(120/236)\n",
    "\n",
    "\n",
    "std_dev_returns = np.std(dataset_test['senti_percent_return'])*2.5\n",
    "\n",
    "\n",
    "sharpe_ratio = (return_per_month- risk_free_rate) / std_dev_returns\n",
    "\n",
    "print('return_per_month : ',return_per_month)\n",
    "print('std_dev_returns : ',std_dev_returns)\n",
    "print('sharpe_ratio : ',sharpe_ratio)"
   ]
  },
  {
   "cell_type": "markdown",
   "metadata": {},
   "source": [
    "WIN RATIO"
   ]
  },
  {
   "cell_type": "code",
   "execution_count": 102,
   "metadata": {},
   "outputs": [
    {
     "name": "stdout",
     "output_type": "stream",
     "text": [
      "num_positive_returns :  70\n",
      "num_negative_returns :  57\n",
      "win ratio : 1.2280701754385965\n"
     ]
    }
   ],
   "source": [
    "positive_mask = dataset_test['senti_return'] > 0\n",
    "num_positive_returns = positive_mask.sum()\n",
    "negative_mask = dataset_test['senti_return'] < 0\n",
    "num_negative_returns = negative_mask.sum()\n",
    "print('num_positive_returns : ',num_positive_returns)\n",
    "print(\"num_negative_returns : \",num_negative_returns)\n",
    "print('win ratio :',num_positive_returns/num_negative_returns)"
   ]
  },
  {
   "cell_type": "markdown",
   "metadata": {},
   "source": [
    "NET RETURNS AFTER STRATEGY"
   ]
  },
  {
   "cell_type": "code",
   "execution_count": 93,
   "metadata": {},
   "outputs": [
    {
     "name": "stdout",
     "output_type": "stream",
     "text": [
      "net returns in strategy :  23972.22939300537\n"
     ]
    }
   ],
   "source": [
    "print(\"net returns in strategy : \",dataset_test['senti_return'].sum())\n",
    "#print(dataset_test['senti_return'].sum())"
   ]
  },
  {
   "cell_type": "markdown",
   "metadata": {},
   "source": [
    "TOTAL NUMBER OF TRADES"
   ]
  },
  {
   "cell_type": "code",
   "execution_count": 76,
   "metadata": {},
   "outputs": [
    {
     "name": "stdout",
     "output_type": "stream",
     "text": [
      "total number of trades :  127\n"
     ]
    }
   ],
   "source": [
    "print('total number of trades : ',num_positive_returns+num_negative_returns)"
   ]
  }
 ],
 "metadata": {
  "kernelspec": {
   "display_name": "Python 3",
   "language": "python",
   "name": "python3"
  },
  "language_info": {
   "codemirror_mode": {
    "name": "ipython",
    "version": 3
   },
   "file_extension": ".py",
   "mimetype": "text/x-python",
   "name": "python",
   "nbconvert_exporter": "python",
   "pygments_lexer": "ipython3",
   "version": "3.11.5"
  }
 },
 "nbformat": 4,
 "nbformat_minor": 2
}
